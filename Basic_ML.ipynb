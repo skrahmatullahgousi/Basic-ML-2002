{
  "nbformat": 4,
  "nbformat_minor": 0,
  "metadata": {
    "colab": {
      "name": "Basic ML",
      "provenance": [],
      "authorship_tag": "ABX9TyP7+xpn8hOnkt+P5f8Hm/1y",
      "include_colab_link": true
    },
    "kernelspec": {
      "name": "python3",
      "display_name": "Python 3"
    },
    "language_info": {
      "name": "python"
    }
  },
  "cells": [
    {
      "cell_type": "markdown",
      "metadata": {
        "id": "view-in-github",
        "colab_type": "text"
      },
      "source": [
        "<a href=\"https://colab.research.google.com/github/skrahmatullahgousi/Basic-ML-2002/blob/main/Basic_ML.ipynb\" target=\"_parent\"><img src=\"https://colab.research.google.com/assets/colab-badge.svg\" alt=\"Open In Colab\"/></a>"
      ]
    },
    {
      "cell_type": "markdown",
      "metadata": {
        "id": "oI7OIM9AZhUo"
      },
      "source": [
        "#  TO FIND THE SUM OF TWO NUMBERS\n",
        "#  AOLGARITHUM\n",
        "START\n",
        "\n",
        "\n",
        "ACCEPT the tWO values\n",
        "\n",
        "check the condition by useing he each variable\n",
        "\n",
        "among the tWO  numbers \n",
        "then print  bigger number\n",
        "\n",
        "\n",
        "\n",
        "\n"
      ]
    },
    {
      "cell_type": "code",
      "metadata": {
        "colab": {
          "base_uri": "https://localhost:8080/"
        },
        "id": "G0jX60zQcx-4",
        "outputId": "22c4c541-3543-44c4-e219-55c4b84581f8"
      },
      "source": [
        "a=int(input())\n",
        "b=int(input())\n",
        "if(a>b):\n",
        "  print(\"a is bigger\")\n",
        "else:\n",
        "  print(\" b is bigger\")"
      ],
      "execution_count": 10,
      "outputs": [
        {
          "output_type": "stream",
          "text": [
            "56\n",
            "90\n",
            " b is bigger\n"
          ],
          "name": "stdout"
        }
      ]
    },
    {
      "cell_type": "markdown",
      "metadata": {
        "id": "k5L8f-I7fW__"
      },
      "source": [
        " #To find the given charactert is palindrome \n",
        " \n",
        " Start\n",
        "\n",
        " Accpect two values \n",
        " \n",
        " assign  input to  the first value and take make other value as void\n",
        " \n",
        " Check condition between them\n",
        " \n",
        " if the input of a is equal to the input of the output\n",
        "\n",
        " THE PRINT IT IS PALINDROME\n",
        "\n",
        "ELSE PRINT IT IS NOT A PALINDROME\n",
        "\n"
      ]
    },
    {
      "cell_type": "code",
      "metadata": {
        "colab": {
          "base_uri": "https://localhost:8080/"
        },
        "id": "8BB4lpuNlwz_",
        "outputId": "45e7b6a4-a17b-4e08-e235-9d6dbf91ffea"
      },
      "source": [
        "a=input()\n",
        "a=()\n",
        "if(a==a[::-1]):\n",
        "  print(\"it is palindrome\")\n",
        "else:\n",
        "  print(\"it is not a palindrome\")  "
      ],
      "execution_count": 11,
      "outputs": [
        {
          "output_type": "stream",
          "text": [
            "madam\n",
            "it is palindrome\n"
          ],
          "name": "stdout"
        }
      ]
    },
    {
      "cell_type": "markdown",
      "metadata": {
        "id": "4H0J1hDjmLvh"
      },
      "source": [
        "# TO FIND THE FACTORIAL OF ANUMBER\n",
        "\n",
        " Start\n",
        "* Read a\n",
        "* Initialize fact\n",
        "* i=1 to a+1 do\n",
        "* Do fact=fact*i in loop\n",
        "* Write fact \n",
        "* Stop"
      ]
    },
    {
      "cell_type": "code",
      "metadata": {
        "colab": {
          "base_uri": "https://localhost:8080/",
          "height": 128
        },
        "id": "dXlcLJwcnh8O",
        "outputId": "c659e84b-c436-4aa2-e070-0a758e92d34c"
      },
      "source": [
        "a=int(input(\"Enter a number:\")\n",
        "factorial==1\n",
        "for i in range(1,a+1):\n",
        "    factoriral*=i\n",
        "print(factorial)\n"
      ],
      "execution_count": 20,
      "outputs": [
        {
          "output_type": "error",
          "ename": "SyntaxError",
          "evalue": "ignored",
          "traceback": [
            "\u001b[0;36m  File \u001b[0;32m\"<ipython-input-20-a57513a39a56>\"\u001b[0;36m, line \u001b[0;32m2\u001b[0m\n\u001b[0;31m    factorial==1\u001b[0m\n\u001b[0m            ^\u001b[0m\n\u001b[0;31mSyntaxError\u001b[0m\u001b[0;31m:\u001b[0m invalid syntax\n"
          ]
        }
      ]
    }
  ]
}